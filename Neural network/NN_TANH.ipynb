{
 "cells": [
  {
   "cell_type": "code",
   "execution_count": 91,
   "metadata": {},
   "outputs": [
    {
     "name": "stdout",
     "output_type": "stream",
     "text": [
      "cpu\n"
     ]
    }
   ],
   "source": [
    "import torch\n",
    "import torch.autograd as autograd         # computation graph\n",
    "from torch import Tensor                  # tensor node in the computation graph\n",
    "import torch.nn as nn                      # neural networks\n",
    "import torch.optim as optim               # optimizers e.g. gradient descent, ADAM, etc.\n",
    "\n",
    "import matplotlib.pyplot as plt\n",
    "import matplotlib.gridspec as gridspec\n",
    "from mpl_toolkits.axes_grid1 import make_axes_locatable\n",
    "from mpl_toolkits.mplot3d import Axes3D\n",
    "import matplotlib.ticker\n",
    "from sklearn.model_selection import train_test_split\n",
    "\n",
    "import numpy as np\n",
    "import time\n",
    "import scipy.io\n",
    "\n",
    "#Set default dtype to double\n",
    "torch.set_default_dtype(torch.double)\n",
    "\n",
    "#PyTorch random number generator\n",
    "torch.manual_seed(1234)      \n",
    "\n",
    "# Random number generators in other libraries\n",
    "np.random.seed(1234)\n",
    "\n",
    "# Device configuration\n",
    "device = torch.device('cuda' if torch.cuda.is_available() else 'cpu')\n",
    "\n",
    "print(device)\n",
    "\n",
    "if device == 'cuda': \n",
    "    print(torch.cuda.get_device_name()) "
   ]
  },
  {
   "cell_type": "code",
   "execution_count": 92,
   "metadata": {},
   "outputs": [],
   "source": [
    "#PyTorch random number generator\n",
    "#torch.manual_seed(1234)\n",
    "\n",
    "# Random number generators in other libraries\n",
    "#np.random.seed(1234)\n",
    "\n",
    "### pakage install and exact solution ready\n",
    "import numpy as np\n",
    "import math\n",
    "import time\n",
    "from numpy.linalg import solve\n",
    "import matplotlib.pyplot as plt\n",
    "\n",
    "# analytical solution parameters\n",
    "left_boundary = 0\n",
    "right_boundary = 1\n",
    "\n",
    "\n",
    "# simple modes case sin(m\\pi x)\n",
    "def u(x):\n",
    "    return   torch.sin(2*np.pi*x) #exact solution\n",
    "\n",
    "def f_real(x):\n",
    "    return  torch.sin(2*np.pi*x)\n",
    "\n",
    "\n"
   ]
  },
  {
   "cell_type": "code",
   "execution_count": 93,
   "metadata": {},
   "outputs": [],
   "source": [
    "# 网络结构\n",
    "import torch\n",
    "import torch.nn as nn\n",
    "import numpy as np\n",
    "\n",
    "class Two_NN(nn.Module):\n",
    "    def __init__(self,width):\n",
    "        super().__init__()\n",
    "        self.width = width\n",
    "        self.fc1 = nn.Linear(1,width)\n",
    "        self.fc2 = nn.Linear(width,1,bias=False)\n",
    "        self.act1 = nn.ReLU()\n",
    "        self.act2 = nn.Tanh()\n",
    "    \n",
    "    def forward(self,x):\n",
    "        y = self.fc1(x)\n",
    "        y = self.act2(y)\n",
    "        y = self.fc2(y)\n",
    "\n",
    "        return y"
   ]
  },
  {
   "cell_type": "code",
   "execution_count": 94,
   "metadata": {},
   "outputs": [
    {
     "name": "stdout",
     "output_type": "stream",
     "text": [
      "torch.Size([20, 1]) torch.Size([20, 1])\n"
     ]
    }
   ],
   "source": [
    "# get the analytical solution over the full domain\n",
    "total_points=20\n",
    "min= 0\n",
    "max= 1\n",
    "\n",
    "x = torch.linspace(min,max,total_points).view(-1,1) #prepare to NN\n",
    "y = f_real(x)\n",
    "#y = y.to(device)\n",
    "print(x.shape, y.shape)"
   ]
  },
  {
   "cell_type": "code",
   "execution_count": 95,
   "metadata": {},
   "outputs": [
    {
     "data": {
      "text/plain": [
       "<matplotlib.legend.Legend at 0x1485e1210>"
      ]
     },
     "execution_count": 95,
     "metadata": {},
     "output_type": "execute_result"
    },
    {
     "data": {
      "image/png": "[encoded data removed]",
      "text/plain": [
       "<Figure size 640x480 with 1 Axes>"
      ]
     },
     "metadata": {},
     "output_type": "display_data"
    }
   ],
   "source": [
    "# plot the solutions\n",
    "fig, ax1 = plt.subplots()\n",
    "ax1.plot(x.detach().numpy(),y.detach().numpy(),color='blue',label='Real Function')\n",
    "#ax1.plot(x_train.detach().numpy(),yh.detach().numpy(),color='red',label='Pred_Train')\n",
    "ax1.set_xlabel('x',color='black')\n",
    "ax1.set_ylabel('f(x)',color='black')\n",
    "ax1.tick_params(axis='y', color='black')\n",
    "ax1.legend(loc = 'upper left')"
   ]
  },
  {
   "cell_type": "code",
   "execution_count": 112,
   "metadata": {},
   "outputs": [
    {
     "data": {
      "text/plain": [
       "tensor([[0.0000],\n",
       "        [0.0526],\n",
       "        [0.1053],\n",
       "        [0.1579],\n",
       "        [0.2105],\n",
       "        [0.2632],\n",
       "        [0.3158],\n",
       "        [0.3684],\n",
       "        [0.4211],\n",
       "        [0.4737],\n",
       "        [0.5263],\n",
       "        [0.5789],\n",
       "        [0.6316],\n",
       "        [0.6842],\n",
       "        [0.7368],\n",
       "        [0.7895],\n",
       "        [0.8421],\n",
       "        [0.8947],\n",
       "        [0.9474],\n",
       "        [1.0000]])"
      ]
     },
     "execution_count": 112,
     "metadata": {},
     "output_type": "execute_result"
    }
   ],
   "source": [
    "# 样本点的个数\n",
    "Nf=20\n",
    "x_PDE = torch.linspace(min,max,Nf).reshape(-1,1)\n",
    "x_PDE"
   ]
  },
  {
   "cell_type": "code",
   "execution_count": 97,
   "metadata": {},
   "outputs": [],
   "source": [
    "# Hyperparameters setting\n",
    "#R_m_w = 3\n",
    "#R_m_b = 3\n",
    "\n",
    "X_min = 0\n",
    "X_max = 1\n",
    "\n",
    "\n",
    "#Store tensors to GPU\n",
    "from torch.optim import lr_scheduler\n",
    "#torch.manual_seed(123)\n",
    "x_PDE=x_PDE.double().to(device)\n",
    "y = y.to(device)\n",
    "\n",
    "\n",
    "#参数： width*3\n",
    "width = 30   #神经网路的参数\n",
    "\n",
    "\n",
    "\n",
    "RFM_model = Two_NN(width=width)\n",
    "RFM_model = RFM_model.to(device)"
   ]
  },
  {
   "cell_type": "code",
   "execution_count": 98,
   "metadata": {},
   "outputs": [
    {
     "name": "stdout",
     "output_type": "stream",
     "text": [
      "-----------------\n",
      "Epoch [0/30000], Loss: 0.49407128\n",
      "-----------------\n",
      "Epoch [1000/30000], Loss: 0.00146685\n",
      "-----------------\n",
      "Epoch [2000/30000], Loss: 0.00199290\n",
      "-----------------\n",
      "Epoch [3000/30000], Loss: 0.00377467\n",
      "-----------------\n",
      "Epoch [4000/30000], Loss: 0.00047299\n",
      "-----------------\n",
      "Epoch [5000/30000], Loss: 0.00046983\n",
      "-----------------\n",
      "Epoch [6000/30000], Loss: 0.02992496\n",
      "-----------------\n",
      "Epoch [7000/30000], Loss: 0.00041538\n",
      "-----------------\n",
      "Epoch [8000/30000], Loss: 0.00019367\n",
      "-----------------\n",
      "Epoch [9000/30000], Loss: 0.00167027\n",
      "-----------------\n",
      "Epoch [10000/30000], Loss: 0.00049466\n",
      "-----------------\n",
      "Epoch [11000/30000], Loss: 0.00003085\n",
      "-----------------\n",
      "Epoch [12000/30000], Loss: 0.00001672\n",
      "-----------------\n",
      "Epoch [13000/30000], Loss: 0.00019841\n",
      "-----------------\n",
      "Epoch [14000/30000], Loss: 0.00007099\n",
      "-----------------\n",
      "Epoch [15000/30000], Loss: 0.00002488\n",
      "-----------------\n",
      "Epoch [16000/30000], Loss: 0.00001104\n",
      "-----------------\n",
      "Epoch [17000/30000], Loss: 0.00001032\n",
      "-----------------\n",
      "Epoch [18000/30000], Loss: 0.00001060\n",
      "-----------------\n",
      "Epoch [19000/30000], Loss: 0.00001255\n",
      "-----------------\n",
      "Epoch [20000/30000], Loss: 0.00001256\n",
      "-----------------\n",
      "Epoch [21000/30000], Loss: 0.00001496\n",
      "-----------------\n",
      "Epoch [22000/30000], Loss: 0.00013163\n",
      "-----------------\n",
      "Epoch [23000/30000], Loss: 0.00001347\n",
      "-----------------\n",
      "Epoch [24000/30000], Loss: 0.00000618\n",
      "-----------------\n",
      "Epoch [25000/30000], Loss: 0.00000372\n",
      "-----------------\n",
      "Epoch [26000/30000], Loss: 0.00004884\n",
      "-----------------\n",
      "Epoch [27000/30000], Loss: 0.00001256\n",
      "-----------------\n",
      "Epoch [28000/30000], Loss: 0.00000474\n",
      "-----------------\n",
      "Epoch [29000/30000], Loss: 0.00000688\n"
     ]
    }
   ],
   "source": [
    "# Intialization setting\n",
    "lr = 8e-2   #学习率\n",
    "#optimizer1 = torch.optim.Adam(RFM_model.parameters(),lr=lr)\n",
    "\n",
    "\n",
    "optimizer1 = torch.optim.Adam(RFM_model.parameters(),lr=lr)\n",
    "loss = nn.MSELoss(reduction='mean')\n",
    "NUM_EPOCHS = 30000\n",
    "for epoch in range(NUM_EPOCHS):\n",
    "    yh = RFM_model(x_PDE)\n",
    "    #print('the shape of yh',yh.shape)\n",
    "    #print('the shape of y',y.shape)\n",
    "    loss_out = loss(yh,y)\n",
    "    optimizer1.zero_grad()\n",
    "    loss_out.backward()\n",
    "    optimizer1.step()\n",
    "\n",
    "    if  epoch % (1000)==0:\n",
    "        print('-----------------')\n",
    "        print(f'Epoch [{epoch}/{NUM_EPOCHS}], Loss: {loss_out.item():.8f}')"
   ]
  },
  {
   "cell_type": "code",
   "execution_count": 99,
   "metadata": {},
   "outputs": [],
   "source": [
    "# Detach from GPU\n",
    "x_plot = x_PDE.detach().cpu().numpy()\n",
    "y_plot = y.detach().cpu().numpy()\n",
    "yh_plot = yh.detach().cpu().numpy()"
   ]
  },
  {
   "cell_type": "code",
   "execution_count": 100,
   "metadata": {},
   "outputs": [
    {
     "data": {
      "text/plain": [
       "<matplotlib.legend.Legend at 0x168b311d0>"
      ]
     },
     "execution_count": 100,
     "metadata": {},
     "output_type": "execute_result"
    },
    {
     "data": {
      "image/png": "[encoded data removed]",
      "text/plain": [
       "<Figure size 640x480 with 1 Axes>"
      ]
     },
     "metadata": {},
     "output_type": "display_data"
    }
   ],
   "source": [
    "# Plot\n",
    "fig, ax1 = plt.subplots()\n",
    "ax1.plot(x,y_plot,color='blue',label='Sin(2*pi*t)')\n",
    "ax1.plot(x,yh_plot,color='red',label='Predicted f(x)',linestyle = 'dashed')\n",
    "#ax1.plot(x,f_x_plot,color='green',label='Computed u\\'(x)')\n",
    "ax1.set_xlabel('x',color='black')\n",
    "ax1.set_ylabel('y',color='black')\n",
    "ax1.tick_params(axis='y', color='black')\n",
    "ax1.legend(loc = 'upper left')"
   ]
  },
  {
   "cell_type": "code",
   "execution_count": 101,
   "metadata": {},
   "outputs": [
    {
     "name": "stdout",
     "output_type": "stream",
     "text": [
      "the shape of FC1_Alpha1 torch.Size([30, 1])\n",
      "the shape fo FC1_Beta1 torch.Size([30])\n",
      "the shape of FC2_Weight torch.Size([1, 30])\n"
     ]
    }
   ],
   "source": [
    "FC1_Alpha1 = RFM_model.fc1.weight\n",
    "FC1_Beta1 = RFM_model.fc1.bias\n",
    "FC2_Weight = RFM_model.fc2.weight\n",
    "print('the shape of FC1_Alpha1',FC1_Alpha1.shape)\n",
    "print('the shape fo FC1_Beta1',FC1_Beta1.shape)\n",
    "print('the shape of FC2_Weight',FC2_Weight.shape)\n",
    "#print(torch.unsqueeze(FC1_Beta1, 1))\n",
    "FC1_Alpha1_array = FC1_Alpha1.detach().numpy() \n",
    "FC1_Beta1_array = FC1_Beta1.detach().numpy() \n",
    "FC2_Weight_array = FC2_Weight.T.detach().numpy() \n",
    "# 保存为 txt 文件\n",
    "result = \"alpha_\" + str(width)+\".txt\"\n",
    "#print(result)\n",
    "np.savetxt(result, FC1_Alpha1_array)\n",
    "result = \"beta_\" + str(width)+\".txt\"\n",
    "np.savetxt(result, FC1_Beta1_array)\n",
    "result = \"omega_\" + str(width)+\".txt\"\n",
    "np.savetxt(result, FC2_Weight_array)\n",
    "#print(Theta_star)"
   ]
  },
  {
   "cell_type": "code",
   "execution_count": 102,
   "metadata": {},
   "outputs": [
    {
     "name": "stdout",
     "output_type": "stream",
     "text": [
      "torch.Size([30, 1])\n",
      "torch.Size([30, 1])\n",
      "torch.Size([30, 1])\n"
     ]
    }
   ],
   "source": [
    "g = x_PDE.clone()\n",
    "g.requires_grad=True #Enable differentiation\n",
    "out = RFM_model(g)\n",
    "\n",
    "\n",
    "w1 = RFM_model.fc1.weight\n",
    "bias1 = RFM_model.fc1.bias\n",
    "w2 = RFM_model.fc2.weight\n",
    "\n",
    "\n",
    "\n",
    "tempw1 = w1.clone()\n",
    "tempbias1 = bias1.clone()\n",
    "tempw2 = w2.clone()\n",
    "\n",
    "temp_w1 = tempw1\n",
    "temp_bias1 = torch.unsqueeze(tempbias1,1)\n",
    "temp_w2 = tempw2.T\n",
    "\n",
    "print (temp_w1.shape)\n",
    "print (temp_bias1.shape)\n",
    "print (temp_w2.shape)\n",
    "\n",
    "J_W1 = torch.zeros(Nf,width).to(device)\n",
    "J_Bias1 = torch.zeros(Nf,width).to(device)\n",
    "J_W2 = torch.zeros(Nf,width).to(device)\n",
    "\n",
    "\n",
    "for i in range(Nf):\n",
    "    '''''\n",
    "    J_weight1 = torch.autograd.grad(outputs=out[i,:], inputs=w1,grad_outputs=torch.ones_like(out[i,:]),create_graph = True, retain_graph = True)[0]\n",
    "    J_bias1 = torch.autograd.grad(outputs=out[i,:], inputs=bias1,grad_outputs=torch.ones_like(out[i,:]),create_graph = True, retain_graph = True)[0]\n",
    "    J_weight2 = torch.autograd.grad(outputs=out[i,:], inputs=w2,grad_outputs=torch.ones_like(out[i,:]),create_graph = True, retain_graph = True)[0]\n",
    " \n",
    "    J_W1[i,:] = J_weight1.squeeze()\n",
    "    J_Bias1[i,:] = J_bias1\n",
    "    J_W2[i,:] = J_weight2\n",
    "    '''''\n",
    "    for j in range(width):\n",
    "        J_W1[i,j] = temp_w2[j,0]*(1-(torch.tanh(temp_w1[j,0]*(i/(Nf-1))+temp_bias1[j,0]))**2)*(i/(Nf-1))\n",
    "        J_Bias1[i,j] = temp_w2[j,0]*(1-(torch.tanh(temp_w1[j,0]*(i/(Nf-1))+temp_bias1[j,0]))**2)\n",
    "        J_W2[i,j] = torch.tanh(temp_w1[j,0]*(i/(Nf-1))+temp_bias1[j,0])\n",
    "            \n",
    "       "
   ]
  },
  {
   "cell_type": "code",
   "execution_count": 103,
   "metadata": {},
   "outputs": [
    {
     "name": "stdout",
     "output_type": "stream",
     "text": [
      "the shape of J_weight1 torch.Size([20, 30])\n",
      "the shape of J_bias1 torch.Size([20, 30])\n",
      "the shape of J_W2 torch.Size([20, 30])\n"
     ]
    }
   ],
   "source": [
    "# The shape of Jacobian operator \n",
    "print('the shape of J_weight1',J_W1.shape)\n",
    "print('the shape of J_bias1',J_Bias1.shape)\n",
    "print('the shape of J_W2',J_W2.shape)\n",
    "#print(w1)\n",
    "#print(J_W2)\n",
    "#print(Theta_zero)\n",
    "#print(bias1)"
   ]
  },
  {
   "cell_type": "code",
   "execution_count": 104,
   "metadata": {},
   "outputs": [
    {
     "name": "stdout",
     "output_type": "stream",
     "text": [
      "the shape of S torch.Size([20, 90])\n",
      "tensor(17.3773, grad_fn=<LinalgVectorNormBackward0>)\n",
      "\n",
      "Identifiable Determination of parameter:\n",
      " tensor([[5.2519e-08, 2.1278e-08, 2.6286e-07, 4.7803e-08, 8.1174e-08, 7.0076e-08,\n",
      "         1.3694e-07, 1.5721e-08, 6.6798e-07, 1.2617e-06, 3.3905e-08, 1.9684e-07,\n",
      "         6.4922e-08, 9.4272e-08, 1.2449e-08, 2.2334e-07, 5.7692e-08, 1.6044e-08,\n",
      "         1.1407e-07, 8.0849e-08, 8.2429e-08, 7.6500e-07, 1.9724e-07, 1.8790e-08,\n",
      "         9.2205e-08, 1.2795e-07, 2.1741e-12, 2.8442e-08, 2.0687e-08, 6.9691e-08,\n",
      "         8.9708e-08, 4.4738e-08, 6.0365e-07, 1.0287e-07, 1.6501e-07, 1.1500e-07,\n",
      "         3.1266e-07, 2.8242e-08, 1.5906e-06, 1.3956e-06, 9.4151e-08, 4.3610e-07,\n",
      "         3.1758e-07, 2.0757e-07, 2.2021e-08, 4.1310e-07, 1.0027e-07, 1.7783e-08,\n",
      "         2.1798e-07, 1.1966e-07, 1.4662e-07, 1.1697e-06, 3.1599e-07, 3.0737e-08,\n",
      "         1.0450e-07, 3.3354e-07, 4.0792e-12, 4.0955e-08, 4.5291e-08, 1.0333e-07,\n",
      "         2.8130e-06, 5.7099e-06, 3.5950e-06, 3.9183e-06, 2.5426e-06, 1.5522e-06,\n",
      "         3.0318e-06, 4.2700e-07, 1.8030e-06, 1.8276e-06, 8.9522e-07, 1.6220e-06,\n",
      "         3.7208e-06, 4.9719e-07, 2.5867e-07, 2.6364e-06, 8.6511e-09, 1.6173e-07,\n",
      "         3.3045e-07, 1.8375e-06, 4.6000e-07, 3.1013e-06, 1.5544e-06, 3.3469e-06,\n",
      "         7.9303e-08, 2.3614e-06, 3.1908e-06, 3.9344e-06, 2.9621e-07, 1.1955e-07]],\n",
      "       grad_fn=<CopySlices>)\n",
      "\n",
      "The number of identiable parameter using Rau:\n",
      " 0\n",
      "\n",
      "The number of identiable parameter using FIM :\n",
      " 11\n",
      "Singular values (S11):\n",
      " tensor([2.5129e+02, 4.1144e+01, 7.1907e+00, 1.8553e+00, 4.1381e-01, 6.5237e-02,\n",
      "        3.1707e-02, 3.1529e-03, 4.1725e-04, 6.9980e-05, 1.3347e-05, 8.7750e-07,\n",
      "        1.8349e-08, 6.7181e-10, 1.2535e-10, 3.0758e-11, 5.2505e-14, 2.7846e-14,\n",
      "        2.7846e-14, 2.7846e-14, 2.7846e-14, 2.7846e-14, 2.7846e-14, 2.7846e-14,\n",
      "        2.7846e-14, 2.7846e-14, 2.7846e-14, 2.7846e-14, 2.7846e-14, 2.7846e-14,\n",
      "        2.7846e-14, 2.7846e-14, 2.7846e-14, 2.7846e-14, 2.7846e-14, 2.7846e-14,\n",
      "        2.7846e-14, 2.7846e-14, 2.7846e-14, 2.7846e-14, 2.7846e-14, 2.7846e-14,\n",
      "        2.7846e-14, 2.7846e-14, 2.7846e-14, 2.7846e-14, 2.7846e-14, 2.7846e-14,\n",
      "        2.7846e-14, 2.7846e-14, 2.7846e-14, 2.7846e-14, 2.7846e-14, 2.7846e-14,\n",
      "        2.7846e-14, 2.7846e-14, 2.7846e-14, 2.7846e-14, 2.7846e-14, 2.7846e-14,\n",
      "        2.7846e-14, 2.7846e-14, 2.7846e-14, 2.7846e-14, 2.7846e-14, 2.7846e-14,\n",
      "        2.7846e-14, 2.7846e-14, 2.7846e-14, 2.7846e-14, 2.7846e-14, 2.7846e-14,\n",
      "        2.7846e-14, 2.7846e-14, 2.7846e-14, 2.7846e-14, 2.7846e-14, 2.7846e-14,\n",
      "        2.7846e-14, 2.7846e-14, 2.7846e-14, 2.7846e-14, 2.7846e-14, 2.7846e-14,\n",
      "        2.7846e-14, 2.7846e-14, 2.7846e-14, 2.7846e-14, 2.7846e-14, 1.2835e-15],\n",
      "       grad_fn=<LinalgSvdBackward0>)\n"
     ]
    },
    {
     "data": {
      "text/plain": [
       "'\\'\\'\\n# 打印重构后的矩阵 A\\nprint(\"\\nReconstructed A matrix:\\n\", A_reconstructed)\\n\\n# 验证是否与原始矩阵 A 相同\\nprint(\"\\nOriginal A matrix:\\n\", A)\\nprint(\"\\nDifference between original and reconstructed A:\\n\", torch.norm(A - A_reconstructed,p=2))\\n'"
      ]
     },
     "execution_count": 104,
     "metadata": {},
     "output_type": "execute_result"
    }
   ],
   "source": [
    "\n",
    "S = torch.cat((J_W1,J_Bias1,J_W2), dim=1)\n",
    "print('the shape of S',S.shape)\n",
    "'''''\n",
    "A1 = S[:,2*width:3*width]\n",
    "zero_rows = torch.all(A1 == 0, dim=1)\n",
    "\n",
    "# 打印结果\n",
    "print(\"Zero rows mask:\\n\", zero_rows)\n",
    "\n",
    "# 获取全零行的索引\n",
    "zero_row_indices = torch.nonzero(zero_rows, as_tuple=True)\n",
    "print(\"Indices of rows that are all zeros:\", zero_row_indices)\n",
    "'''''\n",
    "DD = torch.zeros(1,3*width).to(device)\n",
    "for i in range(3*width):\n",
    "    si = S[:,i]\n",
    "    if i == 0:\n",
    "        AA = S[:,i+1:]\n",
    "    elif i == 3*width-1:\n",
    "        AA = S[:,:i]\n",
    "    else:\n",
    "        AA = torch.cat((S[:, :i], S[:, i+1:]), dim=1)\n",
    "    AA_pinv = torch.linalg.pinv(AA)\n",
    "    vv = torch.matmul(torch.eye(Nf)-(AA @ AA_pinv),si)\n",
    "    DD[0,i] = torch.norm(vv,p=2)\n",
    "print(torch.norm(AA,p=2))\n",
    "print(\"\\nIdentifiable Determination of parameter:\\n\",DD)\n",
    "eps = 1e-2\n",
    "count = torch.sum(DD>eps)\n",
    "print(\"\\nThe number of identiable parameter using Rau:\\n\",count.item())\n",
    "'''''\n",
    "TT1 = torch.zeros(width).to(device)\n",
    "for j in range(width):\n",
    "    if -temp_bias1[j,0]*temp_w1[j,0] > 0: \n",
    "        if -temp_bias1[j,0]*temp_w1[j,0] < temp_w1[j,0]**2:\n",
    "            TT1[j] = 1\n",
    "TT2 = torch.zeros(width).to(device)\n",
    "for j in range(width):\n",
    "    if temp_bias1[j,0] > 0: \n",
    "        if temp_bias1[j,0]+temp_w1[j,0] > 0:\n",
    "            TT2[j] = 1\n",
    "\n",
    "# 计算属于 (0, 1) 范围的元素个数\n",
    "count = (TT1 > 0).sum()\n",
    "print(\"\\nThe number of threshold (-beta_j/alpha_j j=1,2,...,M) in (0,1) :\\n\",count.item())\n",
    "count = ((TT2 > 0).sum() > 0).int()\n",
    "print(\"\\nExistence of line :\\n\",count.item())\n",
    "'''''\n",
    "# 定义矩阵 A\n",
    "A = torch.matmul(S.T, S)\n",
    "#A = S\n",
    "# 进行奇异值分解\n",
    "U, S11, Vh = torch.linalg.svd(A)  # Vh 是 V 的转置\n",
    "eps = 1e-6\n",
    "count = torch.sum(S11>eps)\n",
    "print(\"\\nThe number of identiable parameter using FIM :\\n\",count.item())\n",
    "V2=Vh[count.item():,:]\n",
    "#print(V2@V2.T)\n",
    "#VVV2=V2@V2.T\n",
    "#print(VVV2.shape)\n",
    "# 打印分解结果\n",
    "#print(\"U matrix:\\n\", U)\n",
    "print(\"Singular values (S11):\\n\", S11)\n",
    "#print(\"Vh matrix (V Transposed):\\n\", Vh)\n",
    "\n",
    "\n",
    "#print(torch.diag(Vh@U))\n",
    "# 获取 A 的维度\n",
    "rows, cols = A.shape\n",
    "\n",
    "# 构造 Sigma 为形状 (rows, cols) 的矩阵1\n",
    "Sigma = torch.zeros(rows, cols)\n",
    "\n",
    "# 计算最小的维度长度\n",
    "diag_length = torch.minimum(torch.tensor(rows), torch.tensor(cols)).item()\n",
    "\n",
    "# 将奇异值填入 Sigma 中\n",
    "Sigma[:diag_length, :diag_length] = torch.diag(S11)\n",
    "\n",
    "# 重构矩阵 A (通过 U * Sigma * Vh)\n",
    "A_reconstructed = U @ Sigma @ Vh\n",
    "'''''\n",
    "# 打印重构后的矩阵 A\n",
    "print(\"\\nReconstructed A matrix:\\n\", A_reconstructed)\n",
    "\n",
    "# 验证是否与原始矩阵 A 相同\n",
    "print(\"\\nOriginal A matrix:\\n\", A)\n",
    "print(\"\\nDifference between original and reconstructed A:\\n\", torch.norm(A - A_reconstructed,p=2))\n",
    "'''''"
   ]
  },
  {
   "cell_type": "code",
   "execution_count": 105,
   "metadata": {},
   "outputs": [
    {
     "name": "stdout",
     "output_type": "stream",
     "text": [
      "-----------------\n",
      "Epoch [0/20000], Loss: 0.00032951, L2 Reg: 0.00000000000000000000000000000000\n",
      "-----------------\n",
      "Epoch [1000/20000], Loss: 0.00001327, L2 Reg: 0.00000000000000000000000000000000\n",
      "-----------------\n",
      "Epoch [2000/20000], Loss: 0.00000750, L2 Reg: 0.00000000000000000000000000000000\n",
      "-----------------\n",
      "Epoch [3000/20000], Loss: 0.00000629, L2 Reg: 0.00000000000000000000000000000000\n",
      "-----------------\n",
      "Epoch [4000/20000], Loss: 0.00000533, L2 Reg: 0.00000000000000000000000000000000\n",
      "-----------------\n",
      "Epoch [5000/20000], Loss: 0.00000458, L2 Reg: 0.00000000000000000000000000000000\n",
      "-----------------\n",
      "Epoch [6000/20000], Loss: 0.00000395, L2 Reg: 0.00000000000000000000000000000000\n",
      "-----------------\n",
      "Epoch [7000/20000], Loss: 0.00000343, L2 Reg: 0.00000000000000000000000000000000\n",
      "-----------------\n",
      "Epoch [8000/20000], Loss: 0.00000299, L2 Reg: 0.00000000000000000000000000000000\n",
      "-----------------\n",
      "Epoch [9000/20000], Loss: 0.00000263, L2 Reg: 0.00000000000000000000000000000000\n",
      "-----------------\n",
      "Epoch [10000/20000], Loss: 0.00000231, L2 Reg: 0.00000000000000000000000000000000\n",
      "-----------------\n",
      "Epoch [11000/20000], Loss: 0.00000205, L2 Reg: 0.00000000000000000000000000000000\n",
      "-----------------\n",
      "Epoch [12000/20000], Loss: 0.00000183, L2 Reg: 0.00000000000000000000000000000000\n",
      "-----------------\n",
      "Epoch [13000/20000], Loss: 0.00000170, L2 Reg: 0.00000000000000000000000000000000\n",
      "-----------------\n",
      "Epoch [14000/20000], Loss: 0.00000153, L2 Reg: 0.00000000000000000000000000000000\n",
      "-----------------\n",
      "Epoch [15000/20000], Loss: 0.00000291, L2 Reg: 0.00000000000000000000000000000000\n",
      "-----------------\n",
      "Epoch [16000/20000], Loss: 0.00000130, L2 Reg: 0.00000000000000000000000000000000\n",
      "-----------------\n",
      "Epoch [17000/20000], Loss: 0.00000118, L2 Reg: 0.00000000000000000000000000000000\n",
      "-----------------\n",
      "Epoch [18000/20000], Loss: 0.00000122, L2 Reg: 0.00000000000000000000000000000000\n",
      "-----------------\n",
      "Epoch [19000/20000], Loss: 0.00000099, L2 Reg: 0.00000000000000000000000000000000\n"
     ]
    }
   ],
   "source": [
    "\n",
    "\n",
    "\n",
    "lambda_reg = 1e-2\n",
    "'''''\n",
    "Theta_zero = {\n",
    "    'Alpha': torch.zeros_like(FC1_Alpha1),\n",
    "    'Beta': torch.zeros_like(FC1_Beta1),\n",
    "    'Omega': torch.zeros_like(FC2_Weight)\n",
    "}\n",
    "'''''\n",
    "Theta_zero = {\n",
    "    'Alpha': FC1_Alpha1,\n",
    "    'Beta': FC1_Beta1,\n",
    "    'Omega': FC2_Weight\n",
    "}\n",
    "Theta_star = Theta_zero\n",
    "# 初始化正则化矩阵 U (与模型参数形状匹配)\n",
    "U_alpha = V2[:,0:width]\n",
    "U_beta = V2[:,width:2*width] \n",
    "U_omega = V2[:,2*width:3*width]\n",
    "\n",
    "#Lambda*torch.norm(torch.matmul(V2,Theta-Theta_star),p=2)\n",
    "# Intialization setting\n",
    "lr = 5e-3   #学习率\n",
    "\n",
    "optimizer1 = torch.optim.Adam(RFM_model.parameters(),lr=lr)\n",
    "loss = nn.MSELoss(reduction='mean')\n",
    "NUM_EPOCHS = 20000\n",
    "for epoch in range(NUM_EPOCHS):\n",
    "    yh = RFM_model(x_PDE)\n",
    "    #print('the shape of yh',yh.shape)\n",
    "    #print('the shape of y',y.shape)\n",
    "    \n",
    "    '''''\n",
    "    i = 0\n",
    "    for param in model.parameters():\n",
    "        if i ==0 :\n",
    "            VV1 = torch.mm(V2[:,0:width],(param-Theta_star[0:width,:]))\n",
    "        if i == 1:\n",
    "            VV2 = torch.mm(V2[:,width:2*width],torch.unsqueeze(param, 1)-Theta_star[width:2*width,:])\n",
    "        if i== 2:\n",
    "            VV3 = torch.mm(V2[:,2*width:3*width],torch.transpose(param,0,1)-Theta_star[2*width:3*width,:])\n",
    "        i = i+1\n",
    "    '''''\n",
    "   \n",
    "    w1 = RFM_model.fc1.weight\n",
    "    bias1 = RFM_model.fc1.bias\n",
    "    w2 = RFM_model.fc2.weight\n",
    "\n",
    "    ww1  = w1.clone()\n",
    "    bb1 = bias1.clone()\n",
    "    ww2 = w2.clone()\n",
    "    temp_w1 = ww1\n",
    "    temp_bias1 = bb1\n",
    "    temp_w2 = ww2\n",
    "    '''''\n",
    "    VV1 = torch.mm(V2[:,0:width].detach(),temp_w1-Theta_star[0:width,:].detach())\n",
    "    VV2 = torch.mm(V2[:,width:2*width].detach(),temp_bias1-Theta_star[width:2*width,:].detach())\n",
    "    VV3 = torch.mm(V2[:,2*width:3*width].detach(),temp_w2 -Theta_star[2*width:3*width,:].detach())\n",
    "    '''''\n",
    "    l2_reg = torch.tensor(0.)  # 初始化 L2 正则化值\n",
    "    \n",
    "    # 只对第一层的权重进行 L2 正则化\n",
    "    alpha_diff = w1 - Theta_star['Alpha']\n",
    "    l2_reg += torch.norm(U_alpha.detach() @ alpha_diff, p=2) ** 2\n",
    "    \n",
    "    # 对第一层的偏置进行 L2 正则化\n",
    "    beta_diff = torch.unsqueeze(bias1 - Theta_star['Beta'],1)\n",
    "    l2_reg += torch.norm(U_beta.detach() @ beta_diff, p=2) ** 2 \n",
    "    \n",
    "    # 对第二层的权重进行 L2 正则化\n",
    "    omega_diff = (w2 - Theta_star['Omega']).T\n",
    "    l2_reg += torch.norm(U_omega.detach() @ omega_diff, p=2) ** 2\n",
    "    \n",
    "    #VV1 = ww1\n",
    "    #VV2 = bb1\n",
    "    #VV3 = ww2\n",
    "    #print(Theta_star[0:width,:].shape)\n",
    "    #print(Theta_star[width:2*width,:].shape)\n",
    "    #print(Theta_star[2*width:3*width,:].shape)\n",
    "   ##reg_term = lambda_reg*(torch.norm(VV1+VV2+VV3,p=2)*torch.norm(VV1+VV2+VV3,p=2))\n",
    "    loss1 = loss(yh,y)\n",
    "     # 将正则化项加入到损失函数中\n",
    "    loss_out = loss1 + lambda_reg * l2_reg\n",
    "\n",
    "    \n",
    "    optimizer1.zero_grad()\n",
    "    loss_out.backward()\n",
    "    #torch.nn.utils.clip_grad_norm_(RFM_model.parameters(), max_norm=1.0)\n",
    "\n",
    "    optimizer1.step()\n",
    "\n",
    "    if epoch % 1000 == 0:\n",
    "        print('-----------------')\n",
    "        print(f'Epoch [{epoch}/{NUM_EPOCHS}], Loss: {loss_out.item():.8f}, L2 Reg: {lambda_reg *l2_reg.item():.32f}')"
   ]
  },
  {
   "cell_type": "code",
   "execution_count": 106,
   "metadata": {},
   "outputs": [],
   "source": [
    "# Detach from GPU\n",
    "x_plot = x_PDE.detach().cpu().numpy()\n",
    "y_plot = y.detach().cpu().numpy()\n",
    "yh_plot = yh.detach().cpu().numpy()"
   ]
  },
  {
   "cell_type": "code",
   "execution_count": 107,
   "metadata": {},
   "outputs": [
    {
     "data": {
      "text/plain": [
       "<matplotlib.legend.Legend at 0x168b2e710>"
      ]
     },
     "execution_count": 107,
     "metadata": {},
     "output_type": "execute_result"
    },
    {
     "data": {
      "image/png": "[encoded data removed]",
      "text/plain": [
       "<Figure size 640x480 with 1 Axes>"
      ]
     },
     "metadata": {},
     "output_type": "display_data"
    }
   ],
   "source": [
    "# Plot\n",
    "fig, ax1 = plt.subplots()\n",
    "ax1.plot(x,y_plot,color='blue',label='Sin(2*pi*t)')\n",
    "ax1.plot(x,yh_plot,color='red',label='Predicted f(x)',linestyle = 'dashed')\n",
    "#ax1.plot(x,f_x_plot,color='green',label='Computed u\\'(x)')\n",
    "ax1.set_xlabel('x',color='black')\n",
    "ax1.set_ylabel('y',color='black')\n",
    "ax1.tick_params(axis='y', color='black')\n",
    "ax1.legend(loc = 'upper left')"
   ]
  },
  {
   "cell_type": "code",
   "execution_count": 108,
   "metadata": {},
   "outputs": [
    {
     "name": "stdout",
     "output_type": "stream",
     "text": [
      "the shape of FC1_Alpha1 torch.Size([30, 1])\n",
      "the shape fo FC1_Beta1 torch.Size([30])\n",
      "the shape of FC2_Weight torch.Size([1, 30])\n"
     ]
    }
   ],
   "source": [
    "\n",
    "\n",
    "FC1_Alpha1 = RFM_model.fc1.weight\n",
    "FC1_Beta1 = RFM_model.fc1.bias\n",
    "FC2_Weight = RFM_model.fc2.weight\n",
    "print('the shape of FC1_Alpha1',FC1_Alpha1.shape)\n",
    "print('the shape fo FC1_Beta1',FC1_Beta1.shape)\n",
    "print('the shape of FC2_Weight',FC2_Weight.shape)\n",
    "\n",
    "FC1_Alpha1_array = FC1_Alpha1.detach().numpy() \n",
    "FC1_Beta1_array = FC1_Beta1.detach().numpy() \n",
    "FC2_Weight_array = FC2_Weight.T.detach().numpy() \n",
    "# 保存为 txt 文件\n",
    "result = \"Nalpha_\" + str(width)+\".txt\"\n",
    "#print(result)\n",
    "np.savetxt(result, FC1_Alpha1_array)\n",
    "result = \"Nbeta_\" + str(width)+\".txt\"\n",
    "np.savetxt(result, FC1_Beta1_array)\n",
    "result = \"Nomega_\" + str(width)+\".txt\"\n",
    "np.savetxt(result, FC2_Weight_array)\n"
   ]
  },
  {
   "cell_type": "code",
   "execution_count": 109,
   "metadata": {},
   "outputs": [
    {
     "name": "stdout",
     "output_type": "stream",
     "text": [
      "torch.Size([30, 1])\n",
      "torch.Size([30, 1])\n",
      "torch.Size([30, 1])\n"
     ]
    }
   ],
   "source": [
    "g = x_PDE.clone()\n",
    "g.requires_grad=True #Enable differentiation\n",
    "out = RFM_model(g)\n",
    "\n",
    "\n",
    "w1 = RFM_model.fc1.weight\n",
    "bias1 = RFM_model.fc1.bias\n",
    "w2 = RFM_model.fc2.weight\n",
    "\n",
    "\n",
    "\n",
    "tempw1 = w1.clone()\n",
    "tempbias1 = bias1.clone()\n",
    "tempw2 = w2.clone()\n",
    "\n",
    "temp_w1 = tempw1\n",
    "temp_bias1 = torch.unsqueeze(tempbias1,1)\n",
    "temp_w2 = tempw2.T\n",
    "\n",
    "print (temp_w1.shape)\n",
    "print (temp_bias1.shape)\n",
    "print (temp_w2.shape)\n",
    "\n",
    "J_W1 = torch.zeros(Nf,width).to(device)\n",
    "J_Bias1 = torch.zeros(Nf,width).to(device)\n",
    "J_W2 = torch.zeros(Nf,width).to(device)\n",
    "\n",
    "\n",
    "for i in range(Nf):\n",
    "    '''''\n",
    "    J_weight1 = torch.autograd.grad(outputs=out[i,:], inputs=w1,grad_outputs=torch.ones_like(out[i,:]),create_graph = True, retain_graph = True)[0]\n",
    "    J_bias1 = torch.autograd.grad(outputs=out[i,:], inputs=bias1,grad_outputs=torch.ones_like(out[i,:]),create_graph = True, retain_graph = True)[0]\n",
    "    J_weight2 = torch.autograd.grad(outputs=out[i,:], inputs=w2,grad_outputs=torch.ones_like(out[i,:]),create_graph = True, retain_graph = True)[0]\n",
    " \n",
    "    J_W1[i,:] = J_weight1.squeeze()\n",
    "    J_Bias1[i,:] = J_bias1\n",
    "    J_W2[i,:] = J_weight2\n",
    "    '''''\n",
    "    for j in range(width):\n",
    "        J_W1[i,j] = temp_w2[j,0]*(1-(torch.tanh(temp_w1[j,0]*(i/(Nf-1))+temp_bias1[j,0]))**2)*(i/(Nf-1))\n",
    "        J_Bias1[i,j] = temp_w2[j,0]*(1-(torch.tanh(temp_w1[j,0]*(i/(Nf-1))+temp_bias1[j,0]))**2)\n",
    "        J_W2[i,j] = torch.tanh(temp_w1[j,0]*(i/(Nf-1))+temp_bias1[j,0])\n",
    "            \n",
    "       "
   ]
  },
  {
   "cell_type": "code",
   "execution_count": 110,
   "metadata": {},
   "outputs": [
    {
     "name": "stdout",
     "output_type": "stream",
     "text": [
      "the shape of J_weight1 torch.Size([20, 30])\n",
      "the shape of J_bias1 torch.Size([20, 30])\n",
      "the shape of J_W2 torch.Size([20, 30])\n"
     ]
    }
   ],
   "source": [
    "# The shape of Jacobian operator \n",
    "print('the shape of J_weight1',J_W1.shape)\n",
    "print('the shape of J_bias1',J_Bias1.shape)\n",
    "print('the shape of J_W2',J_W2.shape)\n",
    "#print(w1)\n",
    "#print(J_W2)\n",
    "#print(bias1)"
   ]
  },
  {
   "cell_type": "code",
   "execution_count": 111,
   "metadata": {},
   "outputs": [
    {
     "name": "stdout",
     "output_type": "stream",
     "text": [
      "the shape of S torch.Size([99, 90])\n",
      "torch.Size([90, 90])\n",
      "Singular values (Sigma):\n",
      " tensor([2.4530e+02, 4.3233e+01, 9.6279e+00, 1.5518e+00, 3.5325e-01, 9.5660e-02,\n",
      "        3.4881e-02, 1.8265e-02, 1.0078e-02, 1.0000e-02, 1.0000e-02, 1.0000e-02,\n",
      "        1.0000e-02, 1.0000e-02, 1.0000e-02, 1.0000e-02, 1.0000e-02, 1.0000e-02,\n",
      "        1.0000e-02, 1.0000e-02, 1.0000e-02, 1.0000e-02, 1.0000e-02, 1.0000e-02,\n",
      "        1.0000e-02, 1.0000e-02, 1.0000e-02, 1.0000e-02, 1.0000e-02, 1.0000e-02,\n",
      "        1.0000e-02, 1.0000e-02, 1.0000e-02, 1.0000e-02, 1.0000e-02, 1.0000e-02,\n",
      "        1.0000e-02, 1.0000e-02, 1.0000e-02, 1.0000e-02, 1.0000e-02, 1.0000e-02,\n",
      "        1.0000e-02, 1.0000e-02, 1.0000e-02, 1.0000e-02, 1.0000e-02, 1.0000e-02,\n",
      "        1.0000e-02, 1.0000e-02, 1.0000e-02, 1.0000e-02, 1.0000e-02, 1.0000e-02,\n",
      "        1.0000e-02, 1.0000e-02, 1.0000e-02, 1.0000e-02, 1.0000e-02, 1.0000e-02,\n",
      "        1.0000e-02, 1.0000e-02, 1.0000e-02, 1.0000e-02, 1.0000e-02, 1.0000e-02,\n",
      "        1.0000e-02, 1.0000e-02, 1.0000e-02, 1.0000e-02, 1.0000e-02, 1.0000e-02,\n",
      "        1.0000e-02, 1.0000e-02, 1.0000e-02, 1.0000e-02, 1.0000e-02, 1.0000e-02,\n",
      "        1.0000e-02, 1.0000e-02, 9.9997e-03, 9.9972e-03, 9.9826e-03, 9.9541e-03,\n",
      "        9.7408e-03, 9.6402e-03, 5.3245e-03, 2.9770e-04, 8.9179e-05, 2.0774e-05],\n",
      "       grad_fn=<LinalgSvdBackward0>)\n",
      "90\n"
     ]
    }
   ],
   "source": [
    "S = torch.cat((J_W1,J_Bias1,J_W2), dim=1)\n",
    "lambda_reg_tensor = torch.tensor(lambda_reg)\n",
    "S = torch.cat((S,torch.sqrt(lambda_reg_tensor)*V2),dim=0)\n",
    "print('the shape of S',S.shape)\n",
    "F = torch.matmul(S.T, S)\n",
    "print(F.shape)\n",
    "import torch\n",
    "\n",
    "# 定义矩阵 A\n",
    "A = torch.matmul(S.T, S)\n",
    "#A = S\n",
    "# 进行奇异值分解\n",
    "U, Sigma, Vh = torch.linalg.svd(A)  # Vh 是 V 的转置\n",
    "\n",
    "# 打印分解结果\n",
    "#print(\"U matrix:\\n\", U)\n",
    "print(\"Singular values (Sigma):\\n\", Sigma)\n",
    "#print(\"Vh matrix (V Transposed):\\n\", Vh)\n",
    "eps = 1e-6\n",
    "count = torch.sum(Sigma>eps)\n",
    "print(count.item())\n",
    "\n"
   ]
  }
 ],
 "metadata": {
  "kernelspec": {
   "display_name": "NN",
   "language": "python",
   "name": "python3"
  },
  "language_info": {
   "codemirror_mode": {
    "name": "ipython",
    "version": 3
   },
   "file_extension": ".py",
   "mimetype": "text/x-python",
   "name": "python",
   "nbconvert_exporter": "python",
   "pygments_lexer": "ipython3",
   "version": "3.11.10"
  }
 },
 "nbformat": 4,
 "nbformat_minor": 2
}
